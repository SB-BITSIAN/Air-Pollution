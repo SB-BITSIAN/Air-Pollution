{
 "cells": [
  {
   "cell_type": "code",
   "execution_count": 1,
   "id": "58565436",
   "metadata": {},
   "outputs": [],
   "source": [
    "import numpy as np\n"
   ]
  },
  {
   "cell_type": "code",
   "execution_count": 2,
   "id": "addcef2f",
   "metadata": {},
   "outputs": [],
   "source": [
    "import pandas as pd\n",
    "from matplotlib import pyplot as plt"
   ]
  },
  {
   "cell_type": "code",
   "execution_count": 3,
   "id": "a68196b7",
   "metadata": {},
   "outputs": [],
   "source": [
    "data=pd.read_csv(\"Train.csv\")"
   ]
  },
  {
   "cell_type": "code",
   "execution_count": 4,
   "id": "5972a05c",
   "metadata": {},
   "outputs": [
    {
     "data": {
      "text/html": [
       "<div>\n",
       "<style scoped>\n",
       "    .dataframe tbody tr th:only-of-type {\n",
       "        vertical-align: middle;\n",
       "    }\n",
       "\n",
       "    .dataframe tbody tr th {\n",
       "        vertical-align: top;\n",
       "    }\n",
       "\n",
       "    .dataframe thead th {\n",
       "        text-align: right;\n",
       "    }\n",
       "</style>\n",
       "<table border=\"1\" class=\"dataframe\">\n",
       "  <thead>\n",
       "    <tr style=\"text-align: right;\">\n",
       "      <th></th>\n",
       "      <th>feature_1</th>\n",
       "      <th>feature_2</th>\n",
       "      <th>feature_3</th>\n",
       "      <th>feature_4</th>\n",
       "      <th>feature_5</th>\n",
       "      <th>target</th>\n",
       "    </tr>\n",
       "  </thead>\n",
       "  <tbody>\n",
       "    <tr>\n",
       "      <th>0</th>\n",
       "      <td>0.293416</td>\n",
       "      <td>-0.945599</td>\n",
       "      <td>-0.421105</td>\n",
       "      <td>0.406816</td>\n",
       "      <td>0.525662</td>\n",
       "      <td>-82.154667</td>\n",
       "    </tr>\n",
       "    <tr>\n",
       "      <th>1</th>\n",
       "      <td>-0.836084</td>\n",
       "      <td>-0.189228</td>\n",
       "      <td>-0.776403</td>\n",
       "      <td>-1.053831</td>\n",
       "      <td>0.597997</td>\n",
       "      <td>-48.897960</td>\n",
       "    </tr>\n",
       "    <tr>\n",
       "      <th>2</th>\n",
       "      <td>0.236425</td>\n",
       "      <td>0.132836</td>\n",
       "      <td>-0.147723</td>\n",
       "      <td>0.699854</td>\n",
       "      <td>-0.187364</td>\n",
       "      <td>77.270371</td>\n",
       "    </tr>\n",
       "    <tr>\n",
       "      <th>3</th>\n",
       "      <td>0.175312</td>\n",
       "      <td>0.143194</td>\n",
       "      <td>-0.581111</td>\n",
       "      <td>-0.122107</td>\n",
       "      <td>-1.292168</td>\n",
       "      <td>-2.988581</td>\n",
       "    </tr>\n",
       "    <tr>\n",
       "      <th>4</th>\n",
       "      <td>-1.693011</td>\n",
       "      <td>0.542712</td>\n",
       "      <td>-2.798729</td>\n",
       "      <td>-0.686723</td>\n",
       "      <td>1.244077</td>\n",
       "      <td>-37.596722</td>\n",
       "    </tr>\n",
       "  </tbody>\n",
       "</table>\n",
       "</div>"
      ],
      "text/plain": [
       "   feature_1  feature_2  feature_3  feature_4  feature_5     target\n",
       "0   0.293416  -0.945599  -0.421105   0.406816   0.525662 -82.154667\n",
       "1  -0.836084  -0.189228  -0.776403  -1.053831   0.597997 -48.897960\n",
       "2   0.236425   0.132836  -0.147723   0.699854  -0.187364  77.270371\n",
       "3   0.175312   0.143194  -0.581111  -0.122107  -1.292168  -2.988581\n",
       "4  -1.693011   0.542712  -2.798729  -0.686723   1.244077 -37.596722"
      ]
     },
     "execution_count": 4,
     "metadata": {},
     "output_type": "execute_result"
    }
   ],
   "source": [
    "data.head()"
   ]
  },
  {
   "cell_type": "code",
   "execution_count": 5,
   "id": "de7b34b0",
   "metadata": {},
   "outputs": [],
   "source": [
    "datanp=data.values"
   ]
  },
  {
   "cell_type": "code",
   "execution_count": 6,
   "id": "1665de8d",
   "metadata": {},
   "outputs": [
    {
     "data": {
      "text/plain": [
       "array([[ 2.93416239e-01, -9.45598713e-01, -4.21105147e-01,\n",
       "         4.06816021e-01,  5.25661832e-01, -8.21546666e+01],\n",
       "       [-8.36084081e-01, -1.89228039e-01, -7.76402618e-01,\n",
       "        -1.05383124e+00,  5.97996852e-01, -4.88979602e+01],\n",
       "       [ 2.36425114e-01,  1.32836018e-01, -1.47722982e-01,\n",
       "         6.99853963e-01, -1.87364163e-01,  7.72703707e+01],\n",
       "       ...,\n",
       "       [ 1.04417694e+00, -8.99206485e-01,  1.73039905e+00,\n",
       "        -1.87105676e+00,  4.42519647e-01, -1.07510508e+02],\n",
       "       [-1.26917290e+00, -5.05215916e-03,  1.85766873e+00,\n",
       "        -1.08036482e+00,  7.36333937e-01, -4.73415578e+01],\n",
       "       [-1.88400025e+00, -8.49427430e-01, -1.45227035e+00,\n",
       "         4.88613076e-01,  1.45957580e+00, -1.15939003e+02]])"
      ]
     },
     "execution_count": 6,
     "metadata": {},
     "output_type": "execute_result"
    }
   ],
   "source": [
    "datanp"
   ]
  },
  {
   "cell_type": "code",
   "execution_count": 7,
   "id": "121d3ef7",
   "metadata": {},
   "outputs": [],
   "source": [
    "X_train=datanp[:,:-1]\n",
    "Y_train=datanp[:,-1]"
   ]
  },
  {
   "cell_type": "code",
   "execution_count": 8,
   "id": "1cf3e2bf",
   "metadata": {},
   "outputs": [
    {
     "data": {
      "text/plain": [
       "array([[ 0.29341624, -0.94559871, -0.42110515,  0.40681602,  0.52566183],\n",
       "       [-0.83608408, -0.18922804, -0.77640262, -1.05383124,  0.59799685],\n",
       "       [ 0.23642511,  0.13283602, -0.14772298,  0.69985396, -0.18736416],\n",
       "       ...,\n",
       "       [ 1.04417694, -0.89920649,  1.73039905, -1.87105676,  0.44251965],\n",
       "       [-1.2691729 , -0.00505216,  1.85766873, -1.08036482,  0.73633394],\n",
       "       [-1.88400025, -0.84942743, -1.45227035,  0.48861308,  1.4595758 ]])"
      ]
     },
     "execution_count": 8,
     "metadata": {},
     "output_type": "execute_result"
    }
   ],
   "source": [
    "X_train"
   ]
  },
  {
   "cell_type": "code",
   "execution_count": 9,
   "id": "fc939aa9",
   "metadata": {},
   "outputs": [
    {
     "data": {
      "text/plain": [
       "array([ -82.15466656,  -48.89796018,   77.2703707 , ..., -107.51050797,\n",
       "        -47.34155781, -115.93900296])"
      ]
     },
     "execution_count": 9,
     "metadata": {},
     "output_type": "execute_result"
    }
   ],
   "source": [
    "Y_train"
   ]
  },
  {
   "cell_type": "code",
   "execution_count": 10,
   "id": "83e2e8e6",
   "metadata": {},
   "outputs": [],
   "source": [
    "Y_train=Y_train.reshape((1600,1))\n",
    "Y_t=np.mat(Y_train)"
   ]
  },
  {
   "cell_type": "code",
   "execution_count": 11,
   "id": "6e6f9410",
   "metadata": {},
   "outputs": [
    {
     "data": {
      "text/plain": [
       "1600"
      ]
     },
     "execution_count": 11,
     "metadata": {},
     "output_type": "execute_result"
    }
   ],
   "source": [
    "(r,c)=X_train.shape\n",
    "r"
   ]
  },
  {
   "cell_type": "code",
   "execution_count": 12,
   "id": "87e25433",
   "metadata": {},
   "outputs": [],
   "source": [
    "z=np.ones((r,1))"
   ]
  },
  {
   "cell_type": "code",
   "execution_count": 13,
   "id": "658e2e79",
   "metadata": {},
   "outputs": [
    {
     "name": "stdout",
     "output_type": "stream",
     "text": [
      "[ 0.0041143  -0.0276038  -0.04445943 -0.04240792  0.01200535] [0.99702582 1.02145636 1.01145129 1.01687155 0.97834768]\n"
     ]
    },
    {
     "data": {
      "text/plain": [
       "matrix([[ 0.29016495, -0.89871183, -0.37238147,  0.44177059,  0.52502448],\n",
       "        [-0.84270473, -0.15822922, -0.72365639, -0.99464217,  0.59896038],\n",
       "        [ 0.23300381,  0.15706968, -0.10209444,  0.72994655, -0.20378187],\n",
       "        ...,\n",
       "        [ 1.0431652 , -0.8532941 ,  1.75476416, -1.79830858,  0.44004223],\n",
       "        [-1.27708547,  0.02207793,  1.88059294, -1.0207355 ,  0.74035908],\n",
       "        [-1.89374689, -0.80456069, -1.39187219,  0.52221049,  1.47960738]])"
      ]
     },
     "execution_count": 13,
     "metadata": {},
     "output_type": "execute_result"
    }
   ],
   "source": [
    "#Normalizing x attribute values. Make sure to use these mean & std when normalizing test values\n",
    "x_mean=X_train.mean(axis=0)\n",
    "x_std=X_train.std(axis=0)\n",
    "print(x_mean,x_std)\n",
    "X_train=((X_train-x_mean)/x_std)\n",
    "X_train=np.mat(X_train)\n",
    "X_train"
   ]
  },
  {
   "cell_type": "code",
   "execution_count": 14,
   "id": "b3eba926",
   "metadata": {},
   "outputs": [],
   "source": [
    "x=np.mat(np.hstack((z,X_train)))"
   ]
  },
  {
   "cell_type": "code",
   "execution_count": 15,
   "id": "f4727020",
   "metadata": {},
   "outputs": [
    {
     "data": {
      "text/plain": [
       "matrix([[ 1.        ,  0.29016495, -0.89871183, -0.37238147,  0.44177059,\n",
       "          0.52502448],\n",
       "        [ 1.        , -0.84270473, -0.15822922, -0.72365639, -0.99464217,\n",
       "          0.59896038],\n",
       "        [ 1.        ,  0.23300381,  0.15706968, -0.10209444,  0.72994655,\n",
       "         -0.20378187],\n",
       "        ...,\n",
       "        [ 1.        ,  1.0431652 , -0.8532941 ,  1.75476416, -1.79830858,\n",
       "          0.44004223],\n",
       "        [ 1.        , -1.27708547,  0.02207793,  1.88059294, -1.0207355 ,\n",
       "          0.74035908],\n",
       "        [ 1.        , -1.89374689, -0.80456069, -1.39187219,  0.52221049,\n",
       "          1.47960738]])"
      ]
     },
     "execution_count": 15,
     "metadata": {},
     "output_type": "execute_result"
    }
   ],
   "source": [
    "x"
   ]
  },
  {
   "cell_type": "code",
   "execution_count": 16,
   "id": "986a382c",
   "metadata": {},
   "outputs": [],
   "source": [
    "a=np.array([[1,2,3]])\n",
    "b=np.array([[5,6,7]])\n",
    "b=b.reshape((3,1))"
   ]
  },
  {
   "cell_type": "code",
   "execution_count": 17,
   "id": "707a1a33",
   "metadata": {},
   "outputs": [
    {
     "data": {
      "text/plain": [
       "array([[1, 2, 3]])"
      ]
     },
     "execution_count": 17,
     "metadata": {},
     "output_type": "execute_result"
    }
   ],
   "source": [
    "a"
   ]
  },
  {
   "cell_type": "code",
   "execution_count": 18,
   "id": "b91c95b7",
   "metadata": {},
   "outputs": [
    {
     "data": {
      "text/plain": [
       "array([[5],\n",
       "       [6],\n",
       "       [7]])"
      ]
     },
     "execution_count": 18,
     "metadata": {},
     "output_type": "execute_result"
    }
   ],
   "source": [
    "b"
   ]
  },
  {
   "cell_type": "code",
   "execution_count": 19,
   "id": "f882ca8c",
   "metadata": {},
   "outputs": [
    {
     "data": {
      "text/plain": [
       "array([[ 5, 10, 15],\n",
       "       [ 6, 12, 18],\n",
       "       [ 7, 14, 21]])"
      ]
     },
     "execution_count": 19,
     "metadata": {},
     "output_type": "execute_result"
    }
   ],
   "source": [
    "a*b"
   ]
  },
  {
   "cell_type": "code",
   "execution_count": 20,
   "id": "893144df",
   "metadata": {},
   "outputs": [
    {
     "data": {
      "text/plain": [
       "array([[38]])"
      ]
     },
     "execution_count": 20,
     "metadata": {},
     "output_type": "execute_result"
    }
   ],
   "source": [
    "np.dot(a,b)"
   ]
  },
  {
   "cell_type": "code",
   "execution_count": 21,
   "id": "28eed59d",
   "metadata": {},
   "outputs": [],
   "source": [
    "a=np.vstack(([[7,8,9]],a))"
   ]
  },
  {
   "cell_type": "code",
   "execution_count": 22,
   "id": "d7d1eb0c",
   "metadata": {},
   "outputs": [],
   "source": [
    "a=np.vstack(([[4,8,1]],a))"
   ]
  },
  {
   "cell_type": "code",
   "execution_count": 23,
   "id": "08094e6f",
   "metadata": {},
   "outputs": [
    {
     "data": {
      "text/plain": [
       "array([[ 75],\n",
       "       [146],\n",
       "       [ 38]])"
      ]
     },
     "execution_count": 23,
     "metadata": {},
     "output_type": "execute_result"
    }
   ],
   "source": [
    "np.dot(a,b)"
   ]
  },
  {
   "cell_type": "code",
   "execution_count": 24,
   "id": "1868482f",
   "metadata": {},
   "outputs": [
    {
     "data": {
      "text/plain": [
       "matrix([[ 75],\n",
       "        [146],\n",
       "        [ 38]])"
      ]
     },
     "execution_count": 24,
     "metadata": {},
     "output_type": "execute_result"
    }
   ],
   "source": [
    "a=np.mat(a)\n",
    "b=np.mat(b)\n",
    "a*b"
   ]
  },
  {
   "cell_type": "code",
   "execution_count": 98,
   "id": "5d9d7a05",
   "metadata": {},
   "outputs": [
    {
     "data": {
      "text/plain": [
       "(1600, 6)"
      ]
     },
     "execution_count": 98,
     "metadata": {},
     "output_type": "execute_result"
    }
   ],
   "source": [
    "x.shape"
   ]
  },
  {
   "cell_type": "markdown",
   "id": "b1b50019",
   "metadata": {},
   "source": [
    "x_mean=x.mean(axis=0)\n",
    "x_std=x.std(axis=0)\n",
    "print(x_mean,x_std)\n",
    "x=((x-x_mean)/x_std)\n",
    "print(x)"
   ]
  },
  {
   "cell_type": "code",
   "execution_count": 108,
   "id": "cb1046ce",
   "metadata": {},
   "outputs": [
    {
     "name": "stdout",
     "output_type": "stream",
     "text": [
      "[[ 0.25963001]\n",
      " [29.70709728]\n",
      " [94.66467276]\n",
      " [ 8.3307479 ]\n",
      " [45.43008499]\n",
      " [ 2.5179388 ]]\n",
      "[5754.581045338579, 2827.459392307312, 1507.1597008612393, 910.5268113636143, 640.4169767545775, 517.9076728469937, 462.24133539345, 436.90085248901886, 425.3438112047167, 420.0628841587092, 417.64494614493304, 416.53546923281203, 416.02515637579097, 415.7897778479039, 415.68084377285754, 415.63021385660727, 415.6065517814662, 415.5954115563865, 415.5901145500158, 415.5875622656819, 415.58631072736375, 415.5856830259766, 415.585359317087, 415.5851868463596, 415.58509160384136, 415.5850370455673, 415.58500468526677, 415.58498489105676, 415.5849724706084, 415.58496452021643, 415.5849593552523]\n"
     ]
    }
   ],
   "source": [
    "##import X and theta as matrix and not vector else dot need to be used. Here it is matrix so mat multiplication works.\n",
    "##mini-batch gradient descent method (sp case-stochastic grad. descent)\n",
    "def hypothesis(X,theta):\n",
    "    tt=0\n",
    "    if theta.shape[1]==1:\n",
    "        tt=X*theta\n",
    "    elif theta.shape[0]==1:\n",
    "        tt=X*theta.T\n",
    "    return tt\n",
    "def gradient(X,y,theta):\n",
    "    vec=hypothesis(X,theta)\n",
    "    (r1,c1)=vec.shape\n",
    "    y=y.reshape((r1,c1))\n",
    "    new_vec=vec-y\n",
    "    #print(\"new_vec\",new_vec.shape,\"X.T\",X.T.shape)\n",
    "    grad=X.T*new_vec\n",
    "    return grad/(X.shape[0])\n",
    "def gradientDescent(X,y,lr=0.01,iteration=1000,batch_size=40):\n",
    "    theta=np.mat(np.zeros((6,1)))\n",
    "    avg_error=[]\n",
    "    cutlist=0\n",
    "    for i in range(0,iteration,1):\n",
    "        n=int(X.shape[0]/batch_size)\n",
    "        for j in range(0,n,1):\n",
    "            theta=theta-(lr*gradient(X[j*batch_size:(j+1)*batch_size],y[j*batch_size:(j+1)*batch_size],theta))\n",
    "        check=errorfunc(X,y,theta)\n",
    "        avg_error.append(check[0,0])\n",
    "        if cutlist==round(check[0,0],5):\n",
    "            #print(\"hmmmm\")\n",
    "            break\n",
    "        cutlist=round(check[0,0],5)\n",
    "    return theta,avg_error\n",
    "def errorfunc(X,y,theta):\n",
    "    y_=hypothesis(X,theta)\n",
    "    t_error=(y_-y).T*(y_-y)\n",
    "    return t_error/(X.shape[0])\n",
    "(theta,error_list)=gradientDescent(x,Y_t)\n",
    "print(theta)\n",
    "print(error_list)"
   ]
  },
  {
   "cell_type": "markdown",
   "id": "8be64cd0",
   "metadata": {},
   "source": [
    "theta=np.mat(np.zeros((6,1)))\n",
    "theta"
   ]
  },
  {
   "cell_type": "markdown",
   "id": "e78a0a3a",
   "metadata": {},
   "source": [
    "## Making Predictions ##"
   ]
  },
  {
   "cell_type": "code",
   "execution_count": 28,
   "id": "fa9659be",
   "metadata": {},
   "outputs": [],
   "source": [
    "y_=x*theta"
   ]
  },
  {
   "cell_type": "markdown",
   "id": "6e08f3df",
   "metadata": {},
   "source": [
    "## R2 score ##"
   ]
  },
  {
   "cell_type": "code",
   "execution_count": 44,
   "id": "74423685",
   "metadata": {},
   "outputs": [
    {
     "name": "stdout",
     "output_type": "stream",
     "text": [
      "[[664886.08871317]]\n",
      "[[19609646.01284886]]\n",
      "0.9660939270256327\n"
     ]
    }
   ],
   "source": [
    "def score(y,y_):\n",
    "    num=(y_-y).T*(y_-y)\n",
    "    print(num)\n",
    "    tty=np.mat(np.ones((y_.shape[0],1)))\n",
    "    tty=y.mean()*tty\n",
    "    deno=(y-tty).T*(y-tty)\n",
    "    print(deno)\n",
    "    s=(1-(num[0,0]/deno[0,0]))\n",
    "    return s\n",
    "R2s=score(Y_t,y_)\n",
    "print(R2s)"
   ]
  },
  {
   "cell_type": "code",
   "execution_count": 29,
   "id": "4324b03a",
   "metadata": {},
   "outputs": [
    {
     "data": {
      "text/plain": [
       "matrix([[ -57.86195308],\n",
       "        [ -89.43767684],\n",
       "        [  53.94367496],\n",
       "        ...,\n",
       "        [-115.65273161],\n",
       "        [ -64.28064957],\n",
       "        [-116.08633276]])"
      ]
     },
     "execution_count": 29,
     "metadata": {},
     "output_type": "execute_result"
    }
   ],
   "source": [
    "y_"
   ]
  },
  {
   "cell_type": "code",
   "execution_count": 30,
   "id": "766aa2e1",
   "metadata": {},
   "outputs": [
    {
     "data": {
      "text/plain": [
       "matrix([[ -82.15466656],\n",
       "        [ -48.89796018],\n",
       "        [  77.2703707 ],\n",
       "        ...,\n",
       "        [-107.51050797],\n",
       "        [ -47.34155781],\n",
       "        [-115.93900296]])"
      ]
     },
     "execution_count": 30,
     "metadata": {},
     "output_type": "execute_result"
    }
   ],
   "source": [
    "Y_t"
   ]
  },
  {
   "cell_type": "code",
   "execution_count": 78,
   "id": "bf72f251",
   "metadata": {},
   "outputs": [],
   "source": [
    "testing=pd.read_csv(\"Test.csv\")"
   ]
  },
  {
   "cell_type": "code",
   "execution_count": 79,
   "id": "a20ff539",
   "metadata": {},
   "outputs": [
    {
     "data": {
      "text/html": [
       "<div>\n",
       "<style scoped>\n",
       "    .dataframe tbody tr th:only-of-type {\n",
       "        vertical-align: middle;\n",
       "    }\n",
       "\n",
       "    .dataframe tbody tr th {\n",
       "        vertical-align: top;\n",
       "    }\n",
       "\n",
       "    .dataframe thead th {\n",
       "        text-align: right;\n",
       "    }\n",
       "</style>\n",
       "<table border=\"1\" class=\"dataframe\">\n",
       "  <thead>\n",
       "    <tr style=\"text-align: right;\">\n",
       "      <th></th>\n",
       "      <th>feature_1</th>\n",
       "      <th>feature_2</th>\n",
       "      <th>feature_3</th>\n",
       "      <th>feature_4</th>\n",
       "      <th>feature_5</th>\n",
       "    </tr>\n",
       "  </thead>\n",
       "  <tbody>\n",
       "    <tr>\n",
       "      <th>0</th>\n",
       "      <td>1.015254</td>\n",
       "      <td>2.076209</td>\n",
       "      <td>-0.266435</td>\n",
       "      <td>-2.418088</td>\n",
       "      <td>-0.980503</td>\n",
       "    </tr>\n",
       "    <tr>\n",
       "      <th>1</th>\n",
       "      <td>-0.375021</td>\n",
       "      <td>0.953185</td>\n",
       "      <td>0.626719</td>\n",
       "      <td>0.704406</td>\n",
       "      <td>-0.355489</td>\n",
       "    </tr>\n",
       "    <tr>\n",
       "      <th>2</th>\n",
       "      <td>-1.024452</td>\n",
       "      <td>0.962991</td>\n",
       "      <td>-0.407942</td>\n",
       "      <td>-1.861274</td>\n",
       "      <td>0.455201</td>\n",
       "    </tr>\n",
       "    <tr>\n",
       "      <th>3</th>\n",
       "      <td>-2.489841</td>\n",
       "      <td>0.544802</td>\n",
       "      <td>0.601219</td>\n",
       "      <td>-0.607021</td>\n",
       "      <td>-1.314286</td>\n",
       "    </tr>\n",
       "    <tr>\n",
       "      <th>4</th>\n",
       "      <td>-0.384675</td>\n",
       "      <td>-0.833624</td>\n",
       "      <td>1.358552</td>\n",
       "      <td>-0.547932</td>\n",
       "      <td>0.411925</td>\n",
       "    </tr>\n",
       "  </tbody>\n",
       "</table>\n",
       "</div>"
      ],
      "text/plain": [
       "   feature_1  feature_2  feature_3  feature_4  feature_5\n",
       "0   1.015254   2.076209  -0.266435  -2.418088  -0.980503\n",
       "1  -0.375021   0.953185   0.626719   0.704406  -0.355489\n",
       "2  -1.024452   0.962991  -0.407942  -1.861274   0.455201\n",
       "3  -2.489841   0.544802   0.601219  -0.607021  -1.314286\n",
       "4  -0.384675  -0.833624   1.358552  -0.547932   0.411925"
      ]
     },
     "execution_count": 79,
     "metadata": {},
     "output_type": "execute_result"
    }
   ],
   "source": [
    "testing.head()"
   ]
  },
  {
   "cell_type": "code",
   "execution_count": 80,
   "id": "8a218b3c",
   "metadata": {},
   "outputs": [],
   "source": [
    "test=testing.values"
   ]
  },
  {
   "cell_type": "code",
   "execution_count": 81,
   "id": "41786809",
   "metadata": {},
   "outputs": [],
   "source": [
    "test=np.mat(test)"
   ]
  },
  {
   "cell_type": "code",
   "execution_count": 82,
   "id": "4b40e838",
   "metadata": {},
   "outputs": [],
   "source": [
    "test=(test-x_mean)/x_std"
   ]
  },
  {
   "cell_type": "code",
   "execution_count": 83,
   "id": "c09cdbd6",
   "metadata": {},
   "outputs": [],
   "source": [
    "zzz=np.mat(np.ones((test.shape[0],1)))"
   ]
  },
  {
   "cell_type": "code",
   "execution_count": 84,
   "id": "8b79422d",
   "metadata": {},
   "outputs": [],
   "source": [
    "test=np.hstack((zzz,test))"
   ]
  },
  {
   "cell_type": "code",
   "execution_count": 85,
   "id": "5500d3fb",
   "metadata": {},
   "outputs": [],
   "source": [
    "soln=test*theta"
   ]
  },
  {
   "cell_type": "code",
   "execution_count": 86,
   "id": "214599c8",
   "metadata": {},
   "outputs": [],
   "source": [
    "df=pd.DataFrame(soln)"
   ]
  },
  {
   "cell_type": "code",
   "execution_count": 87,
   "id": "6135f3aa",
   "metadata": {},
   "outputs": [],
   "source": [
    "df.to_csv(\"lalu.csv\")"
   ]
  },
  {
   "cell_type": "code",
   "execution_count": 88,
   "id": "23c5c76f",
   "metadata": {},
   "outputs": [],
   "source": [
    "df.columns=['target']"
   ]
  },
  {
   "cell_type": "code",
   "execution_count": 89,
   "id": "ec9026c1",
   "metadata": {},
   "outputs": [
    {
     "data": {
      "text/html": [
       "<div>\n",
       "<style scoped>\n",
       "    .dataframe tbody tr th:only-of-type {\n",
       "        vertical-align: middle;\n",
       "    }\n",
       "\n",
       "    .dataframe tbody tr th {\n",
       "        vertical-align: top;\n",
       "    }\n",
       "\n",
       "    .dataframe thead th {\n",
       "        text-align: right;\n",
       "    }\n",
       "</style>\n",
       "<table border=\"1\" class=\"dataframe\">\n",
       "  <thead>\n",
       "    <tr style=\"text-align: right;\">\n",
       "      <th></th>\n",
       "      <th>target</th>\n",
       "    </tr>\n",
       "  </thead>\n",
       "  <tbody>\n",
       "    <tr>\n",
       "      <th>0</th>\n",
       "      <td>114.572823</td>\n",
       "    </tr>\n",
       "    <tr>\n",
       "      <th>1</th>\n",
       "      <td>117.987250</td>\n",
       "    </tr>\n",
       "    <tr>\n",
       "      <th>2</th>\n",
       "      <td>-21.729764</td>\n",
       "    </tr>\n",
       "    <tr>\n",
       "      <th>3</th>\n",
       "      <td>-43.925577</td>\n",
       "    </tr>\n",
       "    <tr>\n",
       "      <th>4</th>\n",
       "      <td>-95.910372</td>\n",
       "    </tr>\n",
       "    <tr>\n",
       "      <th>...</th>\n",
       "      <td>...</td>\n",
       "    </tr>\n",
       "    <tr>\n",
       "      <th>395</th>\n",
       "      <td>-81.964494</td>\n",
       "    </tr>\n",
       "    <tr>\n",
       "      <th>396</th>\n",
       "      <td>-186.010186</td>\n",
       "    </tr>\n",
       "    <tr>\n",
       "      <th>397</th>\n",
       "      <td>125.278399</td>\n",
       "    </tr>\n",
       "    <tr>\n",
       "      <th>398</th>\n",
       "      <td>65.357492</td>\n",
       "    </tr>\n",
       "    <tr>\n",
       "      <th>399</th>\n",
       "      <td>57.050210</td>\n",
       "    </tr>\n",
       "  </tbody>\n",
       "</table>\n",
       "<p>400 rows × 1 columns</p>\n",
       "</div>"
      ],
      "text/plain": [
       "         target\n",
       "0    114.572823\n",
       "1    117.987250\n",
       "2    -21.729764\n",
       "3    -43.925577\n",
       "4    -95.910372\n",
       "..          ...\n",
       "395  -81.964494\n",
       "396 -186.010186\n",
       "397  125.278399\n",
       "398   65.357492\n",
       "399   57.050210\n",
       "\n",
       "[400 rows x 1 columns]"
      ]
     },
     "execution_count": 89,
     "metadata": {},
     "output_type": "execute_result"
    }
   ],
   "source": [
    "df"
   ]
  },
  {
   "cell_type": "code",
   "execution_count": 90,
   "id": "e1ce5595",
   "metadata": {},
   "outputs": [],
   "source": [
    "df.to_csv(\"data1.csv\")"
   ]
  },
  {
   "cell_type": "code",
   "execution_count": 91,
   "id": "b6367e3c",
   "metadata": {},
   "outputs": [],
   "source": [
    "tt=pd.read_csv(\"data1.csv\",index_col=False)"
   ]
  },
  {
   "cell_type": "code",
   "execution_count": 92,
   "id": "07f6f254",
   "metadata": {},
   "outputs": [
    {
     "data": {
      "text/html": [
       "<div>\n",
       "<style scoped>\n",
       "    .dataframe tbody tr th:only-of-type {\n",
       "        vertical-align: middle;\n",
       "    }\n",
       "\n",
       "    .dataframe tbody tr th {\n",
       "        vertical-align: top;\n",
       "    }\n",
       "\n",
       "    .dataframe thead th {\n",
       "        text-align: right;\n",
       "    }\n",
       "</style>\n",
       "<table border=\"1\" class=\"dataframe\">\n",
       "  <thead>\n",
       "    <tr style=\"text-align: right;\">\n",
       "      <th></th>\n",
       "      <th>Unnamed: 0</th>\n",
       "      <th>target</th>\n",
       "    </tr>\n",
       "  </thead>\n",
       "  <tbody>\n",
       "    <tr>\n",
       "      <th>0</th>\n",
       "      <td>0</td>\n",
       "      <td>114.572823</td>\n",
       "    </tr>\n",
       "    <tr>\n",
       "      <th>1</th>\n",
       "      <td>1</td>\n",
       "      <td>117.987250</td>\n",
       "    </tr>\n",
       "    <tr>\n",
       "      <th>2</th>\n",
       "      <td>2</td>\n",
       "      <td>-21.729764</td>\n",
       "    </tr>\n",
       "    <tr>\n",
       "      <th>3</th>\n",
       "      <td>3</td>\n",
       "      <td>-43.925577</td>\n",
       "    </tr>\n",
       "    <tr>\n",
       "      <th>4</th>\n",
       "      <td>4</td>\n",
       "      <td>-95.910372</td>\n",
       "    </tr>\n",
       "  </tbody>\n",
       "</table>\n",
       "</div>"
      ],
      "text/plain": [
       "   Unnamed: 0      target\n",
       "0           0  114.572823\n",
       "1           1  117.987250\n",
       "2           2  -21.729764\n",
       "3           3  -43.925577\n",
       "4           4  -95.910372"
      ]
     },
     "execution_count": 92,
     "metadata": {},
     "output_type": "execute_result"
    }
   ],
   "source": [
    "tt.head()"
   ]
  },
  {
   "cell_type": "code",
   "execution_count": 93,
   "id": "64aab2a8",
   "metadata": {},
   "outputs": [],
   "source": [
    "tt.columns=['Id','target']"
   ]
  },
  {
   "cell_type": "code",
   "execution_count": 94,
   "id": "079c9e19",
   "metadata": {},
   "outputs": [
    {
     "data": {
      "text/html": [
       "<div>\n",
       "<style scoped>\n",
       "    .dataframe tbody tr th:only-of-type {\n",
       "        vertical-align: middle;\n",
       "    }\n",
       "\n",
       "    .dataframe tbody tr th {\n",
       "        vertical-align: top;\n",
       "    }\n",
       "\n",
       "    .dataframe thead th {\n",
       "        text-align: right;\n",
       "    }\n",
       "</style>\n",
       "<table border=\"1\" class=\"dataframe\">\n",
       "  <thead>\n",
       "    <tr style=\"text-align: right;\">\n",
       "      <th></th>\n",
       "      <th>Id</th>\n",
       "      <th>target</th>\n",
       "    </tr>\n",
       "  </thead>\n",
       "  <tbody>\n",
       "    <tr>\n",
       "      <th>0</th>\n",
       "      <td>0</td>\n",
       "      <td>114.572823</td>\n",
       "    </tr>\n",
       "    <tr>\n",
       "      <th>1</th>\n",
       "      <td>1</td>\n",
       "      <td>117.987250</td>\n",
       "    </tr>\n",
       "    <tr>\n",
       "      <th>2</th>\n",
       "      <td>2</td>\n",
       "      <td>-21.729764</td>\n",
       "    </tr>\n",
       "    <tr>\n",
       "      <th>3</th>\n",
       "      <td>3</td>\n",
       "      <td>-43.925577</td>\n",
       "    </tr>\n",
       "    <tr>\n",
       "      <th>4</th>\n",
       "      <td>4</td>\n",
       "      <td>-95.910372</td>\n",
       "    </tr>\n",
       "    <tr>\n",
       "      <th>...</th>\n",
       "      <td>...</td>\n",
       "      <td>...</td>\n",
       "    </tr>\n",
       "    <tr>\n",
       "      <th>395</th>\n",
       "      <td>395</td>\n",
       "      <td>-81.964494</td>\n",
       "    </tr>\n",
       "    <tr>\n",
       "      <th>396</th>\n",
       "      <td>396</td>\n",
       "      <td>-186.010186</td>\n",
       "    </tr>\n",
       "    <tr>\n",
       "      <th>397</th>\n",
       "      <td>397</td>\n",
       "      <td>125.278399</td>\n",
       "    </tr>\n",
       "    <tr>\n",
       "      <th>398</th>\n",
       "      <td>398</td>\n",
       "      <td>65.357492</td>\n",
       "    </tr>\n",
       "    <tr>\n",
       "      <th>399</th>\n",
       "      <td>399</td>\n",
       "      <td>57.050210</td>\n",
       "    </tr>\n",
       "  </tbody>\n",
       "</table>\n",
       "<p>400 rows × 2 columns</p>\n",
       "</div>"
      ],
      "text/plain": [
       "      Id      target\n",
       "0      0  114.572823\n",
       "1      1  117.987250\n",
       "2      2  -21.729764\n",
       "3      3  -43.925577\n",
       "4      4  -95.910372\n",
       "..   ...         ...\n",
       "395  395  -81.964494\n",
       "396  396 -186.010186\n",
       "397  397  125.278399\n",
       "398  398   65.357492\n",
       "399  399   57.050210\n",
       "\n",
       "[400 rows x 2 columns]"
      ]
     },
     "execution_count": 94,
     "metadata": {},
     "output_type": "execute_result"
    }
   ],
   "source": [
    "tt"
   ]
  },
  {
   "cell_type": "code",
   "execution_count": 96,
   "id": "5f4dc6cc",
   "metadata": {},
   "outputs": [],
   "source": [
    "tt.to_csv('submission1.csv',index=False)"
   ]
  },
  {
   "cell_type": "code",
   "execution_count": null,
   "id": "39f09a92",
   "metadata": {},
   "outputs": [],
   "source": []
  }
 ],
 "metadata": {
  "kernelspec": {
   "display_name": "Python 3 (ipykernel)",
   "language": "python",
   "name": "python3"
  },
  "language_info": {
   "codemirror_mode": {
    "name": "ipython",
    "version": 3
   },
   "file_extension": ".py",
   "mimetype": "text/x-python",
   "name": "python",
   "nbconvert_exporter": "python",
   "pygments_lexer": "ipython3",
   "version": "3.9.6"
  }
 },
 "nbformat": 4,
 "nbformat_minor": 5
}
